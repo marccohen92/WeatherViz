{
 "cells": [
  {
   "cell_type": "markdown",
   "metadata": {},
   "source": [
    "# Map creation and export"
   ]
  },
  {
   "cell_type": "markdown",
   "metadata": {},
   "source": [
    "#### Specify your project path here"
   ]
  },
  {
   "cell_type": "code",
   "execution_count": null,
   "metadata": {
    "collapsed": true
   },
   "outputs": [],
   "source": [
    "project_path = \"C:/Users/marc-/WeatherViz\""
   ]
  },
  {
   "cell_type": "code",
   "execution_count": null,
   "metadata": {
    "collapsed": false
   },
   "outputs": [],
   "source": [
    "import sys\n",
    "sys.path.insert(0, project_path)"
   ]
  },
  {
   "cell_type": "markdown",
   "metadata": {},
   "source": [
    "### 1. Month choice"
   ]
  },
  {
   "cell_type": "markdown",
   "metadata": {},
   "source": [
    "#### Chose the month you want to know the weather conditions"
   ]
  },
  {
   "cell_type": "code",
   "execution_count": null,
   "metadata": {
    "collapsed": true
   },
   "outputs": [],
   "source": [
    "month = \"Octobre\""
   ]
  },
  {
   "cell_type": "markdown",
   "metadata": {},
   "source": [
    "### 2. Cities choice "
   ]
  },
  {
   "cell_type": "markdown",
   "metadata": {},
   "source": [
    "#### Chose the cities you want to know the weather conditions. <br> city_list is the final list of the cities whose the conditions wil be displayed. You can use the given lists or construct yours from scratch."
   ]
  },
  {
   "cell_type": "code",
   "execution_count": null,
   "metadata": {
    "collapsed": true
   },
   "outputs": [],
   "source": [
    "city_list_sa = [\"Buenos Aires\", \"Bogota\", \"Lima\", \"Santiago Chili\", \"Rio De Janeiro\", \"Sao Paulo\", \"Carthagène\", \"Cancun\", \"Mexico\",\n",
    "                \"San José\", \"Guatemala\", \"Cali\", \"La Paz\", \"Paramaribo\", \"Caracas\", \"Asuncion\", \"Managua\", \"Kingston\", \"La Havane\",\n",
    "                \"Medellin\", \"Quito\", \"cochabamba\", \"santa cruz de la sierra\", \"Montevideo\", \"bahia blanca\", \"Belo Horizonte\", \n",
    "                \"Salvador brésil\", \"Curitiba\", \"vitoria brésil\", \"Sao Luis brésil\", \"fortaleza brésil\", \"natal brésil\", \"aracaju\",\n",
    "                \"maceio\", \"recife\", \"belem bresil\", \"Cayenne\"]\n",
    "\n",
    "city_list_asia = [\"Hô Chi Minh-Ville\", \"Hanoï\", \"Hải Phòng\", \"Da Nang\", \"Nha Trang\", \"Phnom Penh\", \"Siem Reap\", \"bangkok\",\n",
    "                  \"vientiane\", \"hong kong\", \"Taipei\", \"Shanghai\", \"tokyo\", \"seoul\", \"pekin\", \"osaka\", \"Kuala Lumpur\", \"Singapour\", \n",
    "                 \"Medan\", \"jakarta\", \"denpasar\", \"makasar\", \"Davao\", \"Sandakan\", \"manille\", \"Colombo\", \"Bombay\",\n",
    "                 \"Calcutta\"]\n",
    "\n",
    "city_list = city_list_sa + city_list_asia\n",
    "start_location = city_list[0]"
   ]
  },
  {
   "cell_type": "markdown",
   "metadata": {},
   "source": [
    "### 3. Map creation"
   ]
  },
  {
   "cell_type": "code",
   "execution_count": null,
   "metadata": {
    "collapsed": false
   },
   "outputs": [],
   "source": [
    "from main.create_map import create_map\n",
    "my_map = create_map(city_list, month, start_location)"
   ]
  },
  {
   "cell_type": "markdown",
   "metadata": {},
   "source": [
    "### 4. Notebook display"
   ]
  },
  {
   "cell_type": "code",
   "execution_count": null,
   "metadata": {
    "collapsed": false,
    "scrolled": true
   },
   "outputs": [],
   "source": [
    "my_map"
   ]
  },
  {
   "cell_type": "markdown",
   "metadata": {},
   "source": [
    "### 5. HTML export"
   ]
  },
  {
   "cell_type": "markdown",
   "metadata": {},
   "source": [
    "#### Specify your export path"
   ]
  },
  {
   "cell_type": "code",
   "execution_count": null,
   "metadata": {
    "collapsed": true
   },
   "outputs": [],
   "source": [
    "export_path = \"C:/Users/marc-/OneDrive/Documents/\""
   ]
  },
  {
   "cell_type": "markdown",
   "metadata": {},
   "source": [
    "#### Give a region name that describe the cities you chose "
   ]
  },
  {
   "cell_type": "code",
   "execution_count": null,
   "metadata": {
    "collapsed": true
   },
   "outputs": [],
   "source": [
    "region_name = \"southa_america\""
   ]
  },
  {
   "cell_type": "code",
   "execution_count": null,
   "metadata": {
    "collapsed": false
   },
   "outputs": [],
   "source": [
    "name = \"weather_map_\" + month + \"_\" + region_name + \".html\""
   ]
  },
  {
   "cell_type": "code",
   "execution_count": null,
   "metadata": {
    "collapsed": true
   },
   "outputs": [],
   "source": [
    "my_map.save(export_path + name)"
   ]
  }
 ],
 "metadata": {
  "kernelspec": {
   "display_name": "Python 3",
   "language": "python",
   "name": "python3"
  },
  "language_info": {
   "codemirror_mode": {
    "name": "ipython",
    "version": 3
   },
   "file_extension": ".py",
   "mimetype": "text/x-python",
   "name": "python",
   "nbconvert_exporter": "python",
   "pygments_lexer": "ipython3",
   "version": "3.6.0"
  }
 },
 "nbformat": 4,
 "nbformat_minor": 2
}
