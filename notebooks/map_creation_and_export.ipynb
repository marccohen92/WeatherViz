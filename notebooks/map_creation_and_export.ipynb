{
 "cells": [
  {
   "cell_type": "markdown",
   "metadata": {},
   "source": [
    "# Creation d'une carte des températures moyennes"
   ]
  },
  {
   "cell_type": "code",
   "execution_count": null,
   "metadata": {
    "collapsed": false
   },
   "outputs": [],
   "source": [
    "import sys\n",
    "sys.path.insert(0, \"C:/Users/marc-/WeatherViz\")"
   ]
  },
  {
   "cell_type": "markdown",
   "metadata": {},
   "source": [
    "### 1. Choix du mois"
   ]
  },
  {
   "cell_type": "code",
   "execution_count": null,
   "metadata": {
    "collapsed": true
   },
   "outputs": [],
   "source": [
    "month = \"Octobre\""
   ]
  },
  {
   "cell_type": "markdown",
   "metadata": {},
   "source": [
    "### 2. Choix des villes "
   ]
  },
  {
   "cell_type": "code",
   "execution_count": null,
   "metadata": {
    "collapsed": true
   },
   "outputs": [],
   "source": [
    "city_list_sa = [\"Buenos Aires\", \"Bogota\", \"Lima\", \"Santiago Chili\", \"Rio De Janeiro\", \"Sao Paulo\", \"Carthagène\", \"Cancun\", \"Mexico\",\n",
    "                \"San José\", \"Guatemala\", \"Cali\", \"La Paz\", \"Paramaribo\", \"Caracas\", \"Asuncion\", \"Managua\", \"Kingston\", \"La Havane\",\n",
    "                \"Medellin\", \"Quito\", \"cochabamba\", \"santa cruz de la sierra\", \"Montevideo\", \"bahia blanca\", \"Belo Horizonte\", \n",
    "                \"Salvador brésil\", \"Curitiba\", \"vitoria brésil\", \"Sao Luis brésil\", \"fortaleza brésil\", \"natal brésil\", \"aracaju\",\n",
    "                \"maceio\", \"recife\", \"belem bresil\", \"Cayenne\"]\n",
    "\n",
    "city_list_asia = [\"Hô Chi Minh-Ville\", \"Hanoï\", \"Hải Phòng\", \"Da Nang\", \"Nha Trang\", \"Phnom Penh\", \"Siem Reap\", \"bangkok\",\n",
    "                  \"vientiane\", \"hong kong\", \"Taipei\", \"Shanghai\", \"tokyo\", \"seoul\", \"pekin\", \"osaka\", \"Kuala Lumpur\", \"Singapour\", \n",
    "                 \"Medan\", \"jakarta\", \"denpasar\", \"makasar\", \"Davao\", \"Sandakan\", \"manille\", \"Colombo\", \"Bombay\",\n",
    "                 \"Calcutta\"]\n",
    "\n",
    "city_list = city_list_sa + city_list_asia\n",
    "start_location = city_list[0]"
   ]
  },
  {
   "cell_type": "markdown",
   "metadata": {},
   "source": [
    "### 3. Création de la carte "
   ]
  },
  {
   "cell_type": "code",
   "execution_count": null,
   "metadata": {
    "collapsed": false
   },
   "outputs": [],
   "source": [
    "from main.create_map import create_map\n",
    "my_map = create_map(city_list, month, start_location)"
   ]
  },
  {
   "cell_type": "markdown",
   "metadata": {},
   "source": [
    "### 4. Affichage dans le notebook "
   ]
  },
  {
   "cell_type": "code",
   "execution_count": null,
   "metadata": {
    "collapsed": false,
    "scrolled": true
   },
   "outputs": [],
   "source": [
    "my_map"
   ]
  },
  {
   "cell_type": "markdown",
   "metadata": {},
   "source": [
    "### 5. Export en html "
   ]
  },
  {
   "cell_type": "code",
   "execution_count": null,
   "metadata": {
    "collapsed": false
   },
   "outputs": [],
   "source": [
    "export_path = \"C:/Users/marc-/OneDrive/Documents/\"\n",
    "region_name = \"southa_america\"\n",
    "name = \"weather_map_\" + month + \"_\" + region_name + \".html\""
   ]
  },
  {
   "cell_type": "code",
   "execution_count": null,
   "metadata": {
    "collapsed": true
   },
   "outputs": [],
   "source": [
    "my_map.save(export_path + name)"
   ]
  },
  {
   "cell_type": "code",
   "execution_count": null,
   "metadata": {
    "collapsed": true
   },
   "outputs": [],
   "source": []
  }
 ],
 "metadata": {
  "kernelspec": {
   "display_name": "Python 3",
   "language": "python",
   "name": "python3"
  },
  "language_info": {
   "codemirror_mode": {
    "name": "ipython",
    "version": 3
   },
   "file_extension": ".py",
   "mimetype": "text/x-python",
   "name": "python",
   "nbconvert_exporter": "python",
   "pygments_lexer": "ipython3",
   "version": "3.6.0"
  }
 },
 "nbformat": 4,
 "nbformat_minor": 2
}
